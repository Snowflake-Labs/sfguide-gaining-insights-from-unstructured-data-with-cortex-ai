{
 "cells": [
  {
   "cell_type": "markdown",
   "id": "beafe711-0ff7-4aa6-bd2d-d58ffc95bb92",
   "metadata": {
    "collapsed": false,
    "name": "OVERVIEW_MD",
    "resultHeight": 339
   },
   "source": [
    "# Gaining insights from Unstructured Data with Snowflake Cortex AI\n",
    "\n",
    "Tasty Bytes is a global food truck network operating in 15 countries with fleet of 450 trucks. They collect customer reviews to get customer feedback on their food-trucks which come in from multiple sources and span multiple languages. \n",
    "This enables them to better understand the areas which require improvement and drive up customer loyalty along with satisfaction. \n",
    "\n",
    "In this notebook, we will look at how we analyze these collated customer reviews using Snowflake Cortex to understand :\n",
    "  * What our international customers are saying with Cortex **Translate**\n",
    "  * Get a summary of what customers are saying with Cortex **Summary**\n",
    "  * Classify reviews to determine if they would recommend a food truck with Cortex **ClassifyText**\n",
    "  * Gain specific insights with Cortex **Complete**\n",
    "  * Understand how customers are feeling with Cortex **Sentiment**"
   ]
  },
  {
   "cell_type": "markdown",
   "id": "ec42fdf2-de02-4e89-ae78-d4316f2dd09c",
   "metadata": {
    "collapsed": false,
    "name": "COUNT_REVIEWS_MD",
    "resultHeight": 41
   },
   "source": [
    "Lets see how many reviews we have."
   ]
  },
  {
   "cell_type": "code",
   "execution_count": null,
   "id": "12220c10-ff2d-4d95-af0e-fc8135efaf99",
   "metadata": {
    "codeCollapsed": false,
    "collapsed": false,
    "language": "sql",
    "name": "COUNT_REVIEWS",
    "resultHeight": 112
   },
   "outputs": [],
   "source": [
    "SELECT COUNT(*) FROM TRUCK_REVIEWS_V;"
   ]
  },
  {
   "cell_type": "markdown",
   "id": "4db3f281-4a3d-48a5-b07e-3e967ea5a824",
   "metadata": {
    "collapsed": false,
    "name": "IMPORT_PACKAGES_MD",
    "resultHeight": 134
   },
   "source": [
    "**Import python packages**\n",
    "\n",
    "Snowflake Notebooks include Streamlit and the third-party packages listed in the Snowflake Anaconda channel.  \n",
    "Installing a package is made easy by enabling user to select required pacakges from a list of available pacakges under Packages on the top right corner.  \n",
    "Once installed, we can import installed packages as we would in any other notebook."
   ]
  },
  {
   "cell_type": "code",
   "execution_count": null,
   "id": "3775908f-ca36-4846-8f38-5adca39217f2",
   "metadata": {
    "codeCollapsed": false,
    "collapsed": false,
    "language": "python",
    "name": "IMPORT_PACKAGES",
    "resultHeight": 0
   },
   "outputs": [],
   "source": [
    "# Import python packages\n",
    "import streamlit as st\n",
    "import pandas as pd\n",
    "\n",
    "# Snowpark\n",
    "from snowflake.snowpark.context import get_active_session\n",
    "import snowflake.snowpark.functions as F\n",
    "from snowflake.snowpark.functions import when, date_part\n",
    "from snowflake.snowpark.window import Window\n",
    "\n",
    "# Cortex Functions\n",
    "import snowflake.cortex  as cortex\n",
    "\n",
    "session = get_active_session()\n",
    "# Add a query tag to the session.\n",
    "session.query_tag = {\"origin\":\"sf_sit-is\", \n",
    "                     \"name\":\"voc\", \n",
    "                     \"version\":{\"major\":1, \"minor\":0},\n",
    "                     \"attributes\":{\"is_quickstart\":1, \"source\":\"notebook\", \"vignette\":\"customer_reviews\"}}\n"
   ]
  },
  {
   "cell_type": "markdown",
   "id": "ba1549f9-f4d0-447d-b447-4927a17e5d56",
   "metadata": {
    "collapsed": false,
    "name": "PREVIEW_REVIEWS_MD",
    "resultHeight": 41
   },
   "source": [
    "Lets preview the reviews"
   ]
  },
  {
   "cell_type": "code",
   "execution_count": null,
   "id": "4a2f5851-3b19-41b1-81a3-73f82b9c0966",
   "metadata": {
    "codeCollapsed": false,
    "collapsed": false,
    "language": "python",
    "name": "PREVIEW_REVIEWS",
    "resultHeight": 329
   },
   "outputs": [],
   "source": [
    "reviews_df = session.table('TRUCK_REVIEWS_V') \\\n",
    "             .filter(date_part(\"year\", F.col('DATE')) == 2024)\n",
    "reviews_df.show()"
   ]
  },
  {
   "cell_type": "markdown",
   "id": "214db186-a7d5-49ba-a428-6c335199741c",
   "metadata": {
    "collapsed": false,
    "name": "CORTEX_INTRO_MD",
    "resultHeight": 41
   },
   "source": [
    "In the next cell, we leverage **Translate** - one of the **Snowflake Cortex specialised LLM functions** are available in Snowpark ML, to translate the multilingual reviews to english to enable easier analysis for folks who don't speak the language the original review is in."
   ]
  },
  {
   "cell_type": "code",
   "execution_count": null,
   "id": "43b8f914-e41b-433a-8544-5c20eb742dc5",
   "metadata": {
    "codeCollapsed": false,
    "collapsed": false,
    "language": "python",
    "name": "TRANSLATE",
    "resultHeight": 188
   },
   "outputs": [],
   "source": [
    "# Conditionally translate reviews that are not english using Cortex Translate\n",
    "reviews_df = reviews_df.withColumn('TRANSLATED_REVIEW',when(F.col('LANGUAGE') != F.lit(\"en\"), \\\n",
    "                                                            cortex.Translate(F.col('REVIEW'), \\\n",
    "                                                                             F.col('LANGUAGE'), \\\n",
    "                                                                             \"en\")) \\\n",
    "                                   .otherwise(F.col('REVIEW')))\n",
    "\n",
    "reviews_df.filter(F.col('LANGUAGE') != F.lit(\"en\")) \\\n",
    ".select([\"REVIEW\",\"LANGUAGE\",\"TRANSLATED_REVIEW\"]).show(3)"
   ]
  },
  {
   "cell_type": "markdown",
   "id": "651ed2ac-d1a5-48ae-836b-cb7024c759e1",
   "metadata": {
    "collapsed": false,
    "name": "SUMMARIZE_MD",
    "resultHeight": 41
   },
   "source": [
    "We can quickly learn what our customers are saying with Cortex **Summarize**"
   ]
  },
  {
   "cell_type": "code",
   "execution_count": null,
   "id": "ff217432-5256-473d-a317-33fa53b01a91",
   "metadata": {
    "codeCollapsed": false,
    "collapsed": false,
    "language": "python",
    "name": "SUMMARY_OF_REVIEW",
    "resultHeight": 255
   },
   "outputs": [],
   "source": [
    "# Step 1: Add a row number for each review within each TRUCK_BRAND_NAME\n",
    "window_spec = Window.partition_by(\"TRUCK_BRAND_NAME\").order_by(\"REVIEW\")\n",
    "ranked_reviews_df = reviews_df.with_column(\n",
    "    \"ROW_NUM\", F.row_number().over(window_spec)\n",
    ")\n",
    "\n",
    "# Step 2: Filter to include only the first 20 rows per TRUCK_BRAND_NAME to get a general idea\n",
    "filtered_reviews_df = ranked_reviews_df.filter(F.col(\"ROW_NUM\") <= 20)\n",
    "\n",
    "# Step 3: Aggregate reviews by TRUCK_BRAND_NAME\n",
    "aggregated_reviews_df = filtered_reviews_df.group_by(\"TRUCK_BRAND_NAME\").agg(\n",
    "    F.array_agg(F.col(\"REVIEW\")).alias(\"ALL_REVIEWS\")\n",
    ")\n",
    "\n",
    "# Step 4: Convert the array of reviews to a single string\n",
    "concatenated_reviews_df = aggregated_reviews_df.with_column(\n",
    "    \"ALL_REVIEWS_TEXT\", F.call_function(\"array_to_string\", F.col(\"ALL_REVIEWS\"), F.lit(' '))\n",
    ")\n",
    "\n",
    "# Step 5: Generate summaries for each truck brand\n",
    "summarized_reviews_df = concatenated_reviews_df.with_column(\n",
    "    \"SUMMARY\", cortex.Summarize(F.col(\"ALL_REVIEWS_TEXT\"))\n",
    ")\n",
    "\n",
    "# Step 6: Display the results\n",
    "summarized_reviews_df.select([\"TRUCK_BRAND_NAME\", \"SUMMARY\"]).show(3)\n",
    "\n",
    "one_summary_row = summarized_reviews_df.limit(1).collect()\n",
    "if one_summary_row:\n",
    "    brand = one_summary_row[0]['TRUCK_BRAND_NAME']\n",
    "    summary = one_summary_row[0]['SUMMARY']\n",
    "\n",
    "    # Split the summary roughly in half\n",
    "    half = len(summary) // 2\n",
    "    split_index = summary[:half].rfind(' ')  # Find the last space before the halfway point\n",
    "    if split_index == -1:\n",
    "        split_index = half  # If no space found, split at halfway\n",
    "\n",
    "    summary_part1 = summary[:split_index].strip()\n",
    "    summary_part2 = summary[split_index:].strip()\n",
    "\n",
    "    print(f\"Truck Brand: {brand}\")\n",
    "    print(f\"Summary (part 1): {summary_part1}\")\n",
    "    print(f\"Summary (part 2): {summary_part2}\")"
   ]
  },
  {
   "cell_type": "markdown",
   "id": "6bac2888-1344-4ea9-85aa-49e38afad859",
   "metadata": {
    "collapsed": false,
    "name": "CLASSIFY_TEXT_MD",
    "resultHeight": 41
   },
   "source": [
    "We can similarly understand if a customer would recommend the food truck based on their review using Snowflake Cortex **ClassifyText**"
   ]
  },
  {
   "cell_type": "code",
   "execution_count": null,
   "id": "fa98f3d4-200d-4158-bc6f-b62132238ad8",
   "metadata": {
    "collapsed": false,
    "language": "python",
    "name": "CLASSIFY_TEXT",
    "resultHeight": 188
   },
   "outputs": [],
   "source": [
    "# Text description to understand whether a customer would recommend food truck based on their review \n",
    "text_description = \"\"\"\n",
    "Tell me based on the following food truck customer review, will they recommend the food truck to \\\n",
    "their friends and family?\n",
    "\"\"\"\n",
    "\n",
    "reviews_df = reviews_df.withColumn('RECOMMEND', cortex.ClassifyText(F.col('REVIEW'),[\"Likely\",\"Unlikely\",\"Unsure\"], text_description)['label'])\n",
    "\n",
    "reviews_df.select([\"REVIEW\",\"RECOMMEND\"]).show(3)"
   ]
  },
  {
   "cell_type": "markdown",
   "id": "7fa7fefd-0e0a-48c3-967c-ee542a08541e",
   "metadata": {
    "collapsed": false,
    "name": "EXTRACT_ANSWER_MD",
    "resultHeight": 41
   },
   "source": [
    "Gaining specific insights through Cortex Complete"
   ]
  },
  {
   "cell_type": "code",
   "execution_count": null,
   "id": "184bf8fa-3cc1-4494-b949-720049b92b90",
   "metadata": {
    "codeCollapsed": false,
    "collapsed": false,
    "language": "python",
    "name": "EXTRACT_ANSWER",
    "resultHeight": 345
   },
   "outputs": [],
   "source": [
    "# Step 1: Add a row number for each review within each TRUCK_BRAND_NAME\n",
    "window_spec = Window.partition_by(\"TRUCK_BRAND_NAME\").order_by(\"REVIEW\")\n",
    "ranked_reviews_df = reviews_df.with_column(\n",
    "    \"ROW_NUM\", F.row_number().over(window_spec)\n",
    ")\n",
    "\n",
    "# Step 2: Filter to include only the first 20 rows per TRUCK_BRAND_NAME to get a general idea\n",
    "filtered_reviews_df = ranked_reviews_df.filter(F.col(\"ROW_NUM\") <= 20)\n",
    "\n",
    "# Step 3: Aggregate reviews by TRUCK_BRAND_NAME\n",
    "aggregated_reviews_df = filtered_reviews_df.group_by(\"TRUCK_BRAND_NAME\").agg(\n",
    "    F.array_agg(F.col(\"REVIEW\")).alias(\"ALL_REVIEWS\")\n",
    ")\n",
    "\n",
    "# Step 4: Convert the array of reviews to a single string\n",
    "concatenated_reviews_df = aggregated_reviews_df.with_column(\n",
    "    \"ALL_REVIEWS_TEXT\", F.call_function(\"array_to_string\", F.col(\"ALL_REVIEWS\"), F.lit(' '))\n",
    ")\n",
    "\n",
    "question = \"What is the number one dish positively mentioned in the feedback?\"\n",
    "\n",
    "# Step 5: Answer our question\n",
    "summarized_reviews_df = concatenated_reviews_df.with_column(\n",
    "    \"NUMBER_ONE_DISH\", cortex.Complete(\"mistral-large2\", \n",
    "                                       F.concat(F.lit(f'Context:'), \n",
    "                                                F.col(\"ALL_REVIEWS_TEXT\"), \n",
    "                                                F.lit(f' Question:{question} Answer briefly and concisely and only name the dish:'))))\n",
    "\n",
    "summarized_reviews_df.select(\"TRUCK_BRAND_NAME\", \"NUMBER_ONE_DISH\").show(3)"
   ]
  },
  {
   "cell_type": "markdown",
   "id": "90e8df6d-4bf1-42b2-b6db-30d109bd69c9",
   "metadata": {
    "collapsed": false,
    "name": "SENTIMENT_MD",
    "resultHeight": 41
   },
   "source": [
    "Next we will look at another **task specific LLM function in Cortex - Sentiment**. We utilise sentiment function to understand customer's tone based on the review they provided. Sentiment return value between -1 and 1 such that -1 is the most negative while 1 is the most positive.  "
   ]
  },
  {
   "cell_type": "code",
   "execution_count": null,
   "id": "965c69e0-5312-4f4f-89f1-12f52c849453",
   "metadata": {
    "codeCollapsed": false,
    "collapsed": false,
    "language": "python",
    "name": "CORTEX_SENTIMENT",
    "resultHeight": 188
   },
   "outputs": [],
   "source": [
    "# Understand the sentiment of customer review using Cortex Sentiment\n",
    "reviews_df = reviews_df.withColumn('SENTIMENT', cortex.Sentiment(F.col('REVIEW')))\n",
    "\n",
    "reviews_df.select([\"REVIEW\",\"SENTIMENT\"]).show(3)"
   ]
  },
  {
   "cell_type": "markdown",
   "id": "8da83a8e-d160-4e6c-9a08-fc8dd0fbcb85",
   "metadata": {
    "collapsed": false,
    "name": "SQL_MD",
    "resultHeight": 41
   },
   "source": [
    "These robust Cortex functions seamlessly integrate with SQL, enabling powerful data processing capabilities."
   ]
  },
  {
   "cell_type": "code",
   "execution_count": null,
   "id": "2b1611e4-a52d-4f9d-a01a-5cc3f7cdb7dd",
   "metadata": {
    "collapsed": false,
    "language": "sql",
    "name": "SQL_TRANSLATE",
    "resultHeight": 182
   },
   "outputs": [],
   "source": [
    "-- Add the TRANSLATED_REVIEW column with conditional translation\n",
    "WITH TRANSLATED_REVIEWS AS (\n",
    "    SELECT \n",
    "        REVIEW,\n",
    "        LANGUAGE,\n",
    "        CASE \n",
    "            WHEN LANGUAGE != 'en' THEN SNOWFLAKE.CORTEX.TRANSLATE(REVIEW, LANGUAGE, 'en') \n",
    "            ELSE REVIEW\n",
    "        END AS TRANSLATED_REVIEW\n",
    "    FROM TRUCK_REVIEWS_V\n",
    ")\n",
    "\n",
    "-- Filter rows where the LANGUAGE is not English and select the desired columns\n",
    "SELECT \n",
    "    REVIEW, \n",
    "    LANGUAGE, \n",
    "    TRANSLATED_REVIEW\n",
    "FROM TRANSLATED_REVIEWS\n",
    "WHERE LANGUAGE != 'en'\n",
    "LIMIT 3;"
   ]
  },
  {
   "cell_type": "code",
   "execution_count": null,
   "id": "76ff3c22-d20c-49a2-9c10-d7e5878782d2",
   "metadata": {
    "collapsed": false,
    "language": "sql",
    "name": "SQL_SUMMARIZE",
    "resultHeight": 182
   },
   "outputs": [],
   "source": [
    "-- Add a row number for each review within each TRUCK_BRAND_NAME\n",
    "WITH RANKED_REVIEWS AS (\n",
    "    SELECT \n",
    "        *,\n",
    "        ROW_NUMBER() OVER (PARTITION BY TRUCK_BRAND_NAME ORDER BY REVIEW) AS ROW_NUM\n",
    "    FROM TRUCK_REVIEWS_V\n",
    "),\n",
    "\n",
    "-- Filter to include only the first 20 rows per TRUCK_BRAND_NAME\n",
    "FILTERED_REVIEWS AS (\n",
    "    SELECT *\n",
    "    FROM RANKED_REVIEWS\n",
    "    WHERE ROW_NUM <= 20\n",
    "),\n",
    "\n",
    "-- Aggregate reviews by TRUCK_BRAND_NAME\n",
    "AGGREGATED_REVIEWS AS (\n",
    "    SELECT \n",
    "        TRUCK_BRAND_NAME,\n",
    "        ARRAY_AGG(REVIEW) AS ALL_REVIEWS\n",
    "    FROM FILTERED_REVIEWS\n",
    "    GROUP BY TRUCK_BRAND_NAME\n",
    "),\n",
    "\n",
    "-- Convert the array of reviews into a single string\n",
    "CONCATENATED_REVIEWS AS (\n",
    "    SELECT \n",
    "        TRUCK_BRAND_NAME,\n",
    "        ARRAY_TO_STRING(ALL_REVIEWS, ' ') AS ALL_REVIEWS_TEXT\n",
    "    FROM AGGREGATED_REVIEWS\n",
    "),\n",
    "\n",
    "-- Generate summaries for each truck brand\n",
    "SUMMARIZED_REVIEWS AS (\n",
    "    SELECT \n",
    "        TRUCK_BRAND_NAME,\n",
    "        SNOWFLAKE.CORTEX.SUMMARIZE(ALL_REVIEWS_TEXT) AS SUMMARY\n",
    "    FROM CONCATENATED_REVIEWS\n",
    ")\n",
    "\n",
    "-- Display the summaries and optionally split them into two parts\n",
    "SELECT \n",
    "    TRUCK_BRAND_NAME,\n",
    "    SUMMARY,\n",
    "    LEFT(SUMMARY, FLOOR(LENGTH(SUMMARY) / 2)) AS SUMMARY_PART1,\n",
    "    RIGHT(SUMMARY, LENGTH(SUMMARY) - FLOOR(LENGTH(SUMMARY) / 2)) AS SUMMARY_PART2\n",
    "FROM SUMMARIZED_REVIEWS\n",
    "LIMIT 3;\n"
   ]
  },
  {
   "cell_type": "code",
   "execution_count": null,
   "id": "b0419487-3d8c-4842-bcad-b3edf43bb10c",
   "metadata": {
    "collapsed": false,
    "language": "sql",
    "name": "SQL_CLASSIFY_TEXT",
    "resultHeight": 182
   },
   "outputs": [],
   "source": [
    "WITH CLASSIFIED_REVIEWS AS (\n",
    "    SELECT \n",
    "        REVIEW,\n",
    "        PARSE_JSON(SNOWFLAKE.CORTEX.CLASSIFY_TEXT(\n",
    "            REVIEW, \n",
    "            ['Likely', 'Unlikely', 'Unsure'], \n",
    "            OBJECT_CONSTRUCT('task_description', \n",
    "                'Tell me based on the following food truck customer review, will they recommend the food truck to their friends and family?'\n",
    "            )\n",
    "        )):label::TEXT AS RECOMMEND\n",
    "    FROM TRUCK_REVIEWS_V\n",
    ")\n",
    "\n",
    "SELECT * From CLASSIFIED_REVIEWS limit 3;\n"
   ]
  },
  {
   "cell_type": "code",
   "execution_count": null,
   "id": "0b503e72-6e36-4407-a6e9-aebabe5efbfc",
   "metadata": {
    "collapsed": false,
    "language": "sql",
    "name": "SQL_EXTRACT_ANSWER",
    "resultHeight": 439
   },
   "outputs": [],
   "source": [
    "WITH RANKED_REVIEWS AS (\n",
    "        SELECT \n",
    "            TRUCK_BRAND_NAME,\n",
    "            REVIEW,\n",
    "            ROW_NUMBER() OVER (PARTITION BY TRUCK_BRAND_NAME ORDER BY REVIEW) AS ROW_NUM\n",
    "        FROM TRUCK_REVIEWS_V\n",
    "    ),\n",
    "    FILTERED_REVIEWS AS (\n",
    "        SELECT *\n",
    "        FROM RANKED_REVIEWS\n",
    "        WHERE ROW_NUM <= 20\n",
    "    ),\n",
    "    AGGREGATED_REVIEWS AS (\n",
    "        SELECT \n",
    "            TRUCK_BRAND_NAME,\n",
    "            ARRAY_AGG(REVIEW) AS ALL_REVIEWS\n",
    "        FROM FILTERED_REVIEWS\n",
    "        GROUP BY TRUCK_BRAND_NAME\n",
    "    ),\n",
    "    CONCATENATED_REVIEWS AS (\n",
    "        SELECT \n",
    "            TRUCK_BRAND_NAME,\n",
    "            ARRAY_TO_STRING(ALL_REVIEWS, ' ') AS ALL_REVIEWS_TEXT\n",
    "        FROM AGGREGATED_REVIEWS\n",
    "    ),\n",
    "    SUMMARIZED_REVIEWS AS (\n",
    "        SELECT \n",
    "            TRUCK_BRAND_NAME,\n",
    "            SNOWFLAKE.CORTEX.COMPLETE(\n",
    "               'mistral-large2', \n",
    "               'Context:' || ALL_REVIEWS_TEXT || ' Question: What is the number one dish positively mentioned in the feedback? Answer briefly and concisely and only name the dish:'\n",
    "           ) AS NUMBER_ONE_DISH\n",
    "        FROM CONCATENATED_REVIEWS\n",
    "    )\n",
    "    SELECT TRUCK_BRAND_NAME, NUMBER_ONE_DISH FROM SUMMARIZED_REVIEWS LIMIT 3;"
   ]
  },
  {
   "cell_type": "code",
   "execution_count": null,
   "id": "93830f62-4c56-4b0c-9ee1-e4e520224f57",
   "metadata": {
    "collapsed": false,
    "language": "sql",
    "name": "SQL_SENTIMENT",
    "resultHeight": 182
   },
   "outputs": [],
   "source": [
    "SELECT \n",
    "    REVIEW, \n",
    "    SNOWFLAKE.CORTEX.SENTIMENT(REVIEW) AS SENTIMENT\n",
    "FROM TRUCK_REVIEWS_V\n",
    "LIMIT 3;\n"
   ]
  }
 ],
 "metadata": {
  "kernelspec": {
   "display_name": "Streamlit Notebook",
   "name": "streamlit"
  }
 },
 "nbformat": 4,
 "nbformat_minor": 5
}
