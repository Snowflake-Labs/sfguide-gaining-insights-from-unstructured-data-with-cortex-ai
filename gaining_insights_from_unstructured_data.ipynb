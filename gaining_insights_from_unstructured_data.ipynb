{
 "metadata": {
  "kernelspec": {
   "display_name": "Streamlit Notebook",
   "name": "streamlit"
  }
 },
 "nbformat_minor": 5,
 "nbformat": 4,
 "cells": [
  {
   "cell_type": "markdown",
   "id": "beafe711-0ff7-4aa6-bd2d-d58ffc95bb92",
   "metadata": {
    "collapsed": false,
    "name": "OVERVIEW_MD",
    "resultHeight": 314
   },
   "source": "# Gaining insights from Unstructured Data with Snowflake Cortex AI\n\nTasty Bytes is a global food truck network operating in 15 countries with fleet of 450 trucks. They collect customer reviews to get customer feedback on their food-trucks which come in from multiple sources and span multiple languages. \nThis enables them to better understand the areas which require improvement and drive up customer loyalty along with satisfaction. \n\nIn this notebook, we will look at how we analyze these collated customer reviews using Snowflake Cortex to understand :\n  * What our international customers are saying with Cortex **Translate**\n  * Get a summary of what customers are saying with Cortex **Summary**\n  * Classify reviews to determine if they would recomend a food truck with Cortex **ClassifyText**\n  * Gain specfic insights with Cortex **ExtractAnswer**\n  * Understand how customers are feeling with Cortex **Sentiment**"
  },
  {
   "cell_type": "markdown",
   "id": "ec42fdf2-de02-4e89-ae78-d4316f2dd09c",
   "metadata": {
    "collapsed": false,
    "name": "COUNT_REVIEWS_MD",
    "resultHeight": 41
   },
   "source": "Lets see how many reviews we have."
  },
  {
   "cell_type": "code",
   "execution_count": null,
   "id": "12220c10-ff2d-4d95-af0e-fc8135efaf99",
   "metadata": {
    "codeCollapsed": false,
    "collapsed": false,
    "language": "sql",
    "name": "COUNT_REVIEWS",
    "resultHeight": 112
   },
   "outputs": [],
   "source": [
    "SELECT COUNT(*) FROM TRUCK_REVIEWS_V;"
   ]
  },
  {
   "cell_type": "markdown",
   "id": "4db3f281-4a3d-48a5-b07e-3e967ea5a824",
   "metadata": {
    "collapsed": false,
    "name": "IMPORT_PACKAGES_MD",
    "resultHeight": 134
   },
   "source": "**Import python packages**\n\nSnowflake Notebooks include Streamlit and the third-party packages listed in the Snowflake Anaconda channel.  \nInstalling a package is made easy by enabling user to select required pacakges from a list of available pacakges under Packages on the top right corner.  \nOnce installed, we can import installed packages as we would in any other notebook."
  },
  {
   "cell_type": "code",
   "execution_count": null,
   "id": "3775908f-ca36-4846-8f38-5adca39217f2",
   "metadata": {
    "collapsed": false,
    "language": "python",
    "name": "IMPORT_PACKAGES",
    "resultHeight": 0,
    "codeCollapsed": false
   },
   "outputs": [],
   "source": "# Import python packages\nimport streamlit as st\nimport pandas as pd\nimport seaborn as sns\nimport matplotlib.pyplot as plt\n\n# Snowpark\nfrom snowflake.snowpark.context import get_active_session\nimport snowflake.snowpark.functions as F\nfrom snowflake.snowpark.functions import when, date_part\nfrom snowflake.snowpark.window import Window\n\n# Cortex Functions\nimport snowflake.cortex  as cortex\n\nsession = get_active_session()\n# Add a query tag to the session.\nsession.query_tag = {\"origin\":\"sf_sit-is\", \n                     \"name\":\"voc\", \n                     \"version\":{\"major\":1, \"minor\":0},\n                     \"attributes\":{\"is_quickstart\":1, \"source\":\"notebook\", \"vignette\":\"customer_reviews\"}}\n"
  },
  {
   "cell_type": "markdown",
   "id": "ba1549f9-f4d0-447d-b447-4927a17e5d56",
   "metadata": {
    "collapsed": false,
    "name": "PREVIEW_REVIEWS_MD",
    "resultHeight": 41
   },
   "source": "Lets preview the reviews"
  },
  {
   "cell_type": "code",
   "execution_count": null,
   "id": "4a2f5851-3b19-41b1-81a3-73f82b9c0966",
   "metadata": {
    "collapsed": false,
    "language": "python",
    "name": "PREVIEW_REVIEWS",
    "resultHeight": 329,
    "codeCollapsed": false
   },
   "outputs": [],
   "source": [
    "reviews_df = session.table('TRUCK_REVIEWS_V') \\\n",
    "             .filter(date_part(\"year\", F.col('DATE')) == 2024)\n",
    "reviews_df.show()"
   ]
  },
  {
   "cell_type": "markdown",
   "id": "214db186-a7d5-49ba-a428-6c335199741c",
   "metadata": {
    "collapsed": false,
    "name": "CORTEX_INTRO_MD",
    "resultHeight": 41
   },
   "source": "In the next cell, we leverage **Translate** - one of the **Snowflake Cortex specialised LLM functions** are available in Snowpark ML, to translate the multilingual reviews to english to enable easier analysis for folks who don't speak the language the original review is in."
  },
  {
   "cell_type": "code",
   "execution_count": null,
   "id": "43b8f914-e41b-433a-8544-5c20eb742dc5",
   "metadata": {
    "codeCollapsed": false,
    "collapsed": false,
    "language": "python",
    "name": "CORTEX_TRANSLATE",
    "resultHeight": 188
   },
   "outputs": [],
   "source": [
    "# Conditionally translate reviews that are not english using Cortex Translate\n",
    "reviews_df = reviews_df.withColumn('TRANSLATED_REVIEW',when(F.col('LANGUAGE') != F.lit(\"en\"), \\\n",
    "                                                            cortex.Translate(F.col('REVIEW'), \\\n",
    "                                                                             F.col('LANGUAGE'), \\\n",
    "                                                                             \"en\")) \\\n",
    "                                   .otherwise(F.col('REVIEW')))\n",
    "\n",
    "reviews_df.filter(F.col('LANGUAGE') != F.lit(\"en\")) \\\n",
    ".select([\"REVIEW\",\"LANGUAGE\",\"TRANSLATED_REVIEW\"]).show(3)"
   ]
  },
  {
   "cell_type": "markdown",
   "id": "651ed2ac-d1a5-48ae-836b-cb7024c759e1",
   "metadata": {
    "name": "SUMMARIZE_MD",
    "collapsed": false,
    "resultHeight": 41
   },
   "source": "We can quickly learn what our customers are saying with Cortex **Summarize**"
  },
  {
   "cell_type": "code",
   "id": "ff217432-5256-473d-a317-33fa53b01a91",
   "metadata": {
    "language": "python",
    "name": "SUMMARY_OF_REVIEW",
    "collapsed": false,
    "resultHeight": 255,
    "codeCollapsed": false
   },
   "outputs": [],
   "source": "# Step 1: Add a row number for each review within each TRUCK_BRAND_NAME\nwindow_spec = Window.partition_by(\"TRUCK_BRAND_NAME\").order_by(\"REVIEW\")\nranked_reviews_df = reviews_df.with_column(\n    \"ROW_NUM\", F.row_number().over(window_spec)\n)\n\n# Step 2: Filter to include only the first 20 rows per TRUCK_BRAND_NAME to get a general idea\nfiltered_reviews_df = ranked_reviews_df.filter(F.col(\"ROW_NUM\") <= 20)\n\n# Step 3: Aggregate reviews by TRUCK_BRAND_NAME\naggregated_reviews_df = filtered_reviews_df.group_by(\"TRUCK_BRAND_NAME\").agg(\n    F.array_agg(F.col(\"REVIEW\")).alias(\"ALL_REVIEWS\")\n)\n\n# Step 4: Convert the array of reviews to a single string\nconcatenated_reviews_df = aggregated_reviews_df.with_column(\n    \"ALL_REVIEWS_TEXT\", F.call_function(\"array_to_string\", F.col(\"ALL_REVIEWS\"), F.lit(' '))\n)\n\n# Step 5: Generate summaries for each truck brand\nsummarized_reviews_df = concatenated_reviews_df.with_column(\n    \"SUMMARY\", cortex.Summarize(F.col(\"ALL_REVIEWS_TEXT\"))\n)\n\n# Step 6: Display the results\nsummarized_reviews_df.select([\"TRUCK_BRAND_NAME\", \"SUMMARY\"]).show(3)\n\none_summary_row = summarized_reviews_df.limit(1).collect()\nif one_summary_row:\n    brand = one_summary_row[0]['TRUCK_BRAND_NAME']\n    summary = one_summary_row[0]['SUMMARY']\n\n    # Split the summary roughly in half\n    half = len(summary) // 2\n    split_index = summary[:half].rfind(' ')  # Find the last space before the halfway point\n    if split_index == -1:\n        split_index = half  # If no space found, split at halfway\n\n    summary_part1 = summary[:split_index].strip()\n    summary_part2 = summary[split_index:].strip()\n\n    print(f\"Truck Brand: {brand}\")\n    print(f\"Summary (part 1): {summary_part1}\")\n    print(f\"Summary (part 2): {summary_part2}\")",
   "execution_count": null
  },
  {
   "cell_type": "markdown",
   "id": "6bac2888-1344-4ea9-85aa-49e38afad859",
   "metadata": {
    "collapsed": false,
    "name": "CLASSIFY_TEXT_MD",
    "resultHeight": 41
   },
   "source": "We can similarly understand if a customer would recommend the food truck based on their review using Snowflake Cortex **ClassifyText**"
  },
  {
   "cell_type": "code",
   "execution_count": null,
   "id": "643e40f5-3484-4208-b370-cdf480319555",
   "metadata": {
    "codeCollapsed": false,
    "collapsed": false,
    "language": "python",
    "name": "CLASSIFY_TEXT",
    "resultHeight": 188
   },
   "outputs": [],
   "source": "# Prompt to understand whether a customer would recommend food truck based on their review \nprompt = \"\"\"\nTell me based on the following food truck customer review, will they recommend the food truck to \\\ntheir friends and family? Answer should be only one of the following words - \\\n\"Likely\" or \"Unlikely\" or \"Unsure\".\n\"\"\"\n\n# Ask cortex ClassifyText and create a new column\nreviews_df = reviews_df.withColumn('RECOMMEND', cortex.ClassifyText(F.col('REVIEW'),[\"Likely\",\"Unlikely\",\"Unsure\"], prompt))\\\n.withColumn('CLEAN_RECOMMEND', when(F.contains(F.col('RECOMMEND'), F.lit('Likely')), \\\n                                                            F.lit('Likely')) \\\n                                       .when(F.contains(F.col('RECOMMEND'), F.lit('Unlikely' )), \\\n                                                            F.lit('Unlikely')) \\\n            .when(F.contains(F.col('RECOMMEND'), F.lit('Unsure' )), \\\n                                                            F.lit('Unsure')))\n\nreviews_df.select([\"REVIEW\",\"CLEAN_RECOMMEND\"]).show(3)"
  },
  {
   "cell_type": "markdown",
   "id": "7fa7fefd-0e0a-48c3-967c-ee542a08541e",
   "metadata": {
    "name": "EXTRACT_ANSWER_MD",
    "collapsed": false,
    "resultHeight": 41
   },
   "source": "Gaining specific insights through Cortex ExtractAnswer"
  },
  {
   "cell_type": "code",
   "id": "184bf8fa-3cc1-4494-b949-720049b92b90",
   "metadata": {
    "language": "python",
    "name": "EXTRACT_ANSWER",
    "collapsed": false,
    "resultHeight": 345,
    "codeCollapsed": false
   },
   "outputs": [],
   "source": "# Step 1: Add a row number for each review within each TRUCK_BRAND_NAME\nwindow_spec = Window.partition_by(\"TRUCK_BRAND_NAME\").order_by(\"REVIEW\")\nranked_reviews_df = reviews_df.with_column(\n    \"ROW_NUM\", F.row_number().over(window_spec)\n)\n\n# Step 2: Filter to include only the first 20 rows per TRUCK_BRAND_NAME to get a general idea\nfiltered_reviews_df = ranked_reviews_df.filter(F.col(\"ROW_NUM\") <= 20)\n\n# Step 3: Aggregate reviews by TRUCK_BRAND_NAME\naggregated_reviews_df = filtered_reviews_df.group_by(\"TRUCK_BRAND_NAME\").agg(\n    F.array_agg(F.col(\"REVIEW\")).alias(\"ALL_REVIEWS\")\n)\n\n# Step 4: Convert the array of reviews to a single string\nconcatenated_reviews_df = aggregated_reviews_df.with_column(\n    \"ALL_REVIEWS_TEXT\", F.call_function(\"array_to_string\", F.col(\"ALL_REVIEWS\"), F.lit(' '))\n)\n\n# Step 5: Generate summaries for each truck brand\nsummarized_reviews_df = concatenated_reviews_df.with_column(\n    \"NUMBER_ONE_DISH\", cortex.ExtractAnswer(F.col(\"ALL_REVIEWS_TEXT\"), \"What is the number one dish positivly mentioned in the feedback?\")\n)\n\n# Step 6: Extract the first element of the array\nfirst_element_df = summarized_reviews_df.with_column(\n    \"FIRST_ELEMENT\", F.expr(\"NUMBER_ONE_DISH[0]\")\n)\n\n# Step 7: Parse the first element as JSON and extract the \"answer\" field\nreadable_df = first_element_df.with_column(\n    \"NUMBER_ONE_DISH\", F.get(F.parse_json(F.col(\"FIRST_ELEMENT\")), F.lit(\"answer\"))\n)\n\n# Display the simplified results\nreadable_df.select([\"TRUCK_BRAND_NAME\", \"NUMBER_ONE_DISH\"]).show()\n",
   "execution_count": null
  },
  {
   "cell_type": "markdown",
   "id": "90e8df6d-4bf1-42b2-b6db-30d109bd69c9",
   "metadata": {
    "collapsed": false,
    "name": "SENTIMENT_MD",
    "resultHeight": 41
   },
   "source": [
    "So far we saw Snowflake Cortex - Translate & Complete. Next we will look at another **task specific LLM function in Cortex - Sentiment**. We utilise sentiment function to understand customer's tone based on the review they provided. Sentiment return value between -1 and 1 such that -1 is the most negative while 1 is the most positive.  "
   ]
  },
  {
   "cell_type": "code",
   "execution_count": null,
   "id": "965c69e0-5312-4f4f-89f1-12f52c849453",
   "metadata": {
    "collapsed": false,
    "language": "python",
    "name": "CORTEX_SENTIMENT",
    "resultHeight": 188,
    "codeCollapsed": false
   },
   "outputs": [],
   "source": [
    "# Understand the sentiment of customer review using Cortex Sentiment\n",
    "reviews_df = reviews_df.withColumn('SENTIMENT', cortex.Sentiment(F.col('REVIEW')))\n",
    "\n",
    "reviews_df.select([\"REVIEW\",\"SENTIMENT\"]).show(3)"
   ]
  }
 ]
}